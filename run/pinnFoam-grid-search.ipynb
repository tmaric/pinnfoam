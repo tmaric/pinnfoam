{
 "cells": [
  {
   "cell_type": "markdown",
   "id": "c8f3f25c",
   "metadata": {},
   "source": [
    "# pinnFoam - Grid Search for hyperparameter tuning"
   ]
  },
  {
   "cell_type": "code",
   "execution_count": null,
   "id": "a1b3e02a",
   "metadata": {
    "scrolled": false
   },
   "outputs": [
    {
     "name": "stdout",
     "output_type": "stream",
     "text": [
      "Run id = 0 , running parameter vector (4, 10, 0.0001, 3000, 1e-05)\n",
      "Run id = 1 , running parameter vector (4, 10, 0.001, 3000, 1e-05)\n",
      "Run id = 2 , running parameter vector (4, 20, 0.0001, 3000, 1e-05)\n",
      "Run id = 3 , running parameter vector (4, 20, 0.001, 3000, 1e-05)\n",
      "Run id = 4 , running parameter vector (4, 30, 0.0001, 3000, 1e-05)\n",
      "Run id = 5 , running parameter vector (4, 30, 0.001, 3000, 1e-05)\n",
      "Run id = 6 , running parameter vector (5, 10, 0.0001, 3000, 1e-05)\n"
     ]
    }
   ],
   "source": [
    "import numpy as np\n",
    "import itertools\n",
    "import os\n",
    "import subprocess\n",
    "\n",
    "\n",
    "# Define the parameter space lists\n",
    "layers = [4,5,6,7]\n",
    "nodes_per_layer = [10,20,30]\n",
    "optimizer_step = [1e-04,1e-03]\n",
    "max_iterations = [3000]\n",
    "epsilon = [1e-05]\n",
    "\n",
    "# Prepare the list of parameter space lists\n",
    "parameter_space = [\n",
    "    layers,\n",
    "    nodes_per_layer,\n",
    "    optimizer_step,\n",
    "    max_iterations, \n",
    "    epsilon\n",
    "]\n",
    "\n",
    "# Select the cases that will be used as OpenFOAM input \n",
    "# - Useful when OpenFOAM parameters are aditionally varied\n",
    "cases = [\"unit_box_domain\"] \n",
    "max_parallel_processes = 3 # Maximal number of parallel jobs \n",
    "\n",
    "# For all OpenFOAM cases\n",
    "for case_name in cases:\n",
    "    active_processes = []\n",
    "    # Loop over the cartesian product of parameter vectors\n",
    "    for i,param_vector in enumerate(itertools.product(*parameter_space)):\n",
    "        print (\"Run id = %d , running parameter vector %s\" % (i, param_vector))\n",
    "        # Construct the hiddenLayers option for pinnFoam\n",
    "        hidden_layers = (\"(\")\n",
    "        for layers in range(param_vector[0]):\n",
    "            hidden_layers = hidden_layers + str(param_vector[1]) + \" \"\n",
    "        hidden_layers = hidden_layers + \")\"\n",
    "        # Start the training\n",
    "        active_processes.append(subprocess.Popen(['pinnFoam',\n",
    "            '-case', case_name,\n",
    "            '-hiddenLayers', hidden_layers, \n",
    "            '-optimizerStep', str(param_vector[2]), \n",
    "            '-maxIterations', str(param_vector[3]), \n",
    "            '-epsilon', str(param_vector[4])], stdout=subprocess.DEVNULL))\n",
    "        # If max number of parallel processes is reached\n",
    "        if (i % max_parallel_processes == 0):\n",
    "            # Wait for active processes to finish\n",
    "            for process in active_processes:\n",
    "                process.wait()\n",
    "            active_processes.clear()"
   ]
  }
 ],
 "metadata": {
  "kernelspec": {
   "display_name": "Python 3 (ipykernel)",
   "language": "python",
   "name": "python3"
  },
  "language_info": {
   "codemirror_mode": {
    "name": "ipython",
    "version": 3
   },
   "file_extension": ".py",
   "mimetype": "text/x-python",
   "name": "python",
   "nbconvert_exporter": "python",
   "pygments_lexer": "ipython3",
   "version": "3.10.1"
  }
 },
 "nbformat": 4,
 "nbformat_minor": 5
}
